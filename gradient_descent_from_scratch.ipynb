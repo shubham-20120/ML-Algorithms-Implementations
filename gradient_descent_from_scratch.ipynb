{
  "nbformat": 4,
  "nbformat_minor": 0,
  "metadata": {
    "colab": {
      "name": "gradient descent from scratch.ipynb",
      "provenance": [],
      "collapsed_sections": [],
      "authorship_tag": "ABX9TyMCPbz1RLz+DrFXjNc91h/A",
      "include_colab_link": true
    },
    "kernelspec": {
      "name": "python3",
      "display_name": "Python 3"
    },
    "language_info": {
      "name": "python"
    }
  },
  "cells": [
    {
      "cell_type": "markdown",
      "metadata": {
        "id": "view-in-github",
        "colab_type": "text"
      },
      "source": [
        "<a href=\"https://colab.research.google.com/github/shubham-20120/ML-Algorithms-Implementations/blob/main/gradient_descent_from_scratch.ipynb\" target=\"_parent\"><img src=\"https://colab.research.google.com/assets/colab-badge.svg\" alt=\"Open In Colab\"/></a>"
      ]
    },
    {
      "cell_type": "code",
      "metadata": {
        "id": "CWPqtUDUKPir"
      },
      "source": [
        "import numpy as np\n",
        "import pandas as pd\n",
        "import matplotlib.pyplot as plt\n",
        "import seaborn as sns\n",
        "from sklearn.preprocessing import MinMaxScaler\n",
        "scaler = MinMaxScaler()"
      ],
      "execution_count": 190,
      "outputs": []
    },
    {
      "cell_type": "code",
      "metadata": {
        "id": "sUTY7x9tKh39"
      },
      "source": [
        "df = pd.read_csv('/content/stock_train.csv' )"
      ],
      "execution_count": 192,
      "outputs": []
    },
    {
      "cell_type": "code",
      "metadata": {
        "id": "VhwGQrBWOB6T"
      },
      "source": [
        "y = df.iloc[:, -1]\n",
        "x = df.iloc[:, :-1]\n",
        "x['Cs'] = 0\n",
        "x = scaler.fit_transform(x)\n",
        "# x.head()"
      ],
      "execution_count": 247,
      "outputs": []
    },
    {
      "cell_type": "markdown",
      "metadata": {
        "id": "VC4dMAX3vxqN"
      },
      "source": [
        "# using iterations"
      ]
    },
    {
      "cell_type": "code",
      "metadata": {
        "id": "S907TXZYPhv5"
      },
      "source": [
        "def cost(y, weight, x):\n",
        "    temp = (y - weight*x)*x\n",
        "    return temp"
      ],
      "execution_count": 235,
      "outputs": []
    },
    {
      "cell_type": "code",
      "metadata": {
        "id": "5I5BPUuCO0yA"
      },
      "source": [
        "def updateWeights(x, y, weights, lr, m):\n",
        "    for i in range(len(weights)):\n",
        "        weights[i] = weights[i] - ((-2/m)*lr*cost(y, weights[i], x[i]))\n",
        "    return weights"
      ],
      "execution_count": 236,
      "outputs": []
    },
    {
      "cell_type": "code",
      "metadata": {
        "id": "WHOEhcXsNOwq"
      },
      "source": [
        "def gradient_descent(x, y, lr=0.01, iterations=100):\n",
        "    m, n = x.shape\n",
        "    # weights = np.random.randn(n)\n",
        "    weights = np.zeros(n)\n",
        "    for it in range(iterations):\n",
        "        for j in range(m):\n",
        "            weights = updateWeights(x[j, :], y[j], weights, lr, m)\n",
        "        if it%47==0:\n",
        "            print('iteration: ',it, ' -- weights: ', weights)\n",
        "    return weights"
      ],
      "execution_count": 244,
      "outputs": []
    },
    {
      "cell_type": "code",
      "metadata": {
        "id": "fQ01E11XaI4T"
      },
      "source": [
        "def predictions(x, weights):\n",
        "    ans = []\n",
        "    for i in range(x.shape[0]):\n",
        "        temp = 0\n",
        "        for j in range(x.shape[1]):\n",
        "            temp += x[i][j]*weights[j]\n",
        "        ans.append(temp)\n",
        "    return ans"
      ],
      "execution_count": 238,
      "outputs": []
    },
    {
      "cell_type": "code",
      "metadata": {
        "id": "hLL7WYCgbuTc"
      },
      "source": [
        "final = gradient_descent(x, y, 0.1, 1000)"
      ],
      "execution_count": null,
      "outputs": []
    },
    {
      "cell_type": "code",
      "metadata": {
        "id": "PWtlI_lBe5aU"
      },
      "source": [
        "result = predictions(x, final)"
      ],
      "execution_count": 251,
      "outputs": []
    },
    {
      "cell_type": "markdown",
      "metadata": {
        "id": "sCLXi2bYfY-E"
      },
      "source": [
        "# using matrix multiplications"
      ]
    },
    {
      "cell_type": "code",
      "metadata": {
        "id": "e19I8zrNf6ar"
      },
      "source": [
        "def updateWeights(x, y, weights, lr, m):\n",
        "    final = ( weights - ((-2/m)*(y - weights.dot(x))*x) )\n",
        "    return final"
      ],
      "execution_count": 255,
      "outputs": []
    },
    {
      "cell_type": "code",
      "metadata": {
        "id": "jG2nobflfXPz"
      },
      "source": [
        "def gd_metrix(x, y, lr = 0.01, iterations=100):\n",
        "    m, n = x.shape\n",
        "    weights = np.zeros(n)\n",
        "    for it in range(iterations):\n",
        "        for i in range(m):\n",
        "            weights = updateWeights(x[i], y[i], weights, lr, m)\n",
        "    return weights"
      ],
      "execution_count": 258,
      "outputs": []
    },
    {
      "cell_type": "code",
      "metadata": {
        "id": "ylAUfmKmg8Zc"
      },
      "source": [
        "finalWeights_Metrix = gd_metrix(x, y, 0.1, 50)"
      ],
      "execution_count": 284,
      "outputs": []
    },
    {
      "cell_type": "code",
      "metadata": {
        "id": "EnnOtKeYhJyY"
      },
      "source": [
        "results = predictions(x, finalWeights_Metrix)"
      ],
      "execution_count": 261,
      "outputs": []
    }
  ]
}